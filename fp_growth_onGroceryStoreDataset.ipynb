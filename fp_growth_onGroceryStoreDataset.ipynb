{
  "nbformat": 4,
  "nbformat_minor": 0,
  "metadata": {
    "colab": {
      "name": "fp_growth.ipynb",
      "provenance": [],
      "collapsed_sections": []
    },
    "kernelspec": {
      "name": "python3",
      "display_name": "Python 3"
    },
    "language_info": {
      "name": "python"
    }
  },
  "cells": [
    {
      "cell_type": "code",
      "execution_count": 41,
      "metadata": {
        "id": "tuC0KnUHNddw"
      },
      "outputs": [],
      "source": [
        "#FP-growth algorithm\n",
        "\n",
        "\n",
        "#The class provides the node, node-link, parentnode and children for the parent nodes.\n",
        "#nodelink used to link similar items\n",
        "#parent vaiable used to refer to the parent of the node in the tree\n",
        "#node contains an empty dictionary for the children in the node\n",
        "class treeNode:\n",
        "    def __init__(self, nameValue, numOccur, parentNode):\n",
        "        self.name = nameValue\n",
        "        self.count = numOccur\n",
        "        self.nodeLink = None\n",
        "        self.parent = parentNode      #needs to be updated\n",
        "        self.children = {} \n",
        "#increments the count variable with a given amount    \n",
        "    def inc(self, numOccur):\n",
        "        self.count += numOccur\n",
        "#display the tree      \n",
        "    def disp(self, ind=1):\n",
        "        print ('  '*ind, self.name, ' ', self.count)\n",
        "        for child in self.children.values():\n",
        "            child.disp(ind+1)"
      ]
    },
    {
      "cell_type": "code",
      "source": [
        "#checking the class if it works\n",
        "\n",
        "rootNode = treeNode('tree',9,None)\n",
        "rootNode.children['child'] = treeNode('child',13,None)\n",
        "rootNode.disp()"
      ],
      "metadata": {
        "id": "50EdEUsEPp1I",
        "colab": {
          "base_uri": "https://localhost:8080/"
        },
        "outputId": "34923255-2ca1-4ba4-99cb-0372313ff71c"
      },
      "execution_count": 42,
      "outputs": [
        {
          "output_type": "stream",
          "name": "stdout",
          "text": [
            "   tree   9\n",
            "     child   13\n"
          ]
        }
      ]
    },
    {
      "cell_type": "code",
      "source": [
        "#Constructing the FP-tree\n",
        "\n",
        "''' createTree function function will be fed dataset and given minSup.\n",
        "This will generate an FP-tree, this function will go to every transaction of the dataset,\n",
        "and in the end, it will count the frequency of the items, and information will be stored in the headerTable.\n",
        "'''\n",
        "\n",
        "def createTree(dataSet, minSup): \n",
        "    headerTable = {}\n",
        "    #go over dataSet twice\n",
        "    for trans in dataSet:#first pass counts frequency of occurance\n",
        "        for item in trans:\n",
        "            headerTable[item] = headerTable.get(item, 0) + dataSet[trans]\n",
        "    for k in list(headerTable):  #remove items not meeting minSup\n",
        "        if headerTable[k] < minSup: \n",
        "            del(headerTable[k])\n",
        "    freqItemSet = set(headerTable.keys())\n",
        "    #print 'freqItemSet: ',freqItemSet\n",
        "    if len(freqItemSet) == 0: return None, None  #if no items meet min support -->get out\n",
        "    for k in headerTable:\n",
        "        headerTable[k] = [headerTable[k], None] #reformat headerTable to use Node link \n",
        "    #print 'headerTable: ',headerTable\n",
        "    retTree = treeNode('Null Set', 1, None) #create tree\n",
        "    for tranSet, count in dataSet.items():  #go through dataset 2nd time\n",
        "        localD = {}\n",
        "        for item in tranSet:  #put transaction items in order\n",
        "            if item in freqItemSet:\n",
        "                localD[item] = headerTable[item][0]\n",
        "        if len(localD) > 0:\n",
        "            orderedItems = [v[0] for v in sorted(localD.items(), key=lambda p: p[1], reverse=True)]\n",
        "            updateTree(orderedItems, retTree, headerTable, count)#populate tree with ordered freq itemset\n",
        "    return retTree, headerTable #return tree and header table"
      ],
      "metadata": {
        "id": "dqBSZj6aP4bm"
      },
      "execution_count": 43,
      "outputs": []
    },
    {
      "cell_type": "code",
      "source": [
        "#Growing the FP-tree as it triverse the dataset more and more\n",
        "def updateTree(items, inTree, headerTable, count):\n",
        "    if items[0] in inTree.children:#check if orderedItems[0] in retTree.children\n",
        "        inTree.children[items[0]].inc(count) #incrament count\n",
        "    else:   #add items[0] to inTree.children\n",
        "        inTree.children[items[0]] = treeNode(items[0], count, inTree)\n",
        "        if headerTable[items[0]][1] == None: #update header table \n",
        "            headerTable[items[0]][1] = inTree.children[items[0]]\n",
        "        else:\n",
        "            updateHeader(headerTable[items[0]][1], inTree.children[items[0]])\n",
        "    if len(items) > 1:#call updateTree() with remaining ordered items\n",
        "        updateTree(items[1::], inTree.children[items[0]], headerTable, count)"
      ],
      "metadata": {
        "id": "Rqozv9nUP9OE"
      },
      "execution_count": 44,
      "outputs": []
    },
    {
      "cell_type": "code",
      "source": [
        "def updateHeader(nodeToTest, targetNode):   # not using recursion\n",
        "    while (nodeToTest.nodeLink != None):    \n",
        "        nodeToTest = nodeToTest.nodeLink\n",
        "    nodeToTest.nodeLink = targetNode"
      ],
      "metadata": {
        "id": "zOkeWS9LQAPt"
      },
      "execution_count": 45,
      "outputs": []
    },
    {
      "cell_type": "code",
      "source": [
        "import pandas as pd\n",
        "import numpy as np\n",
        "import math\n",
        "\n",
        "\n",
        "def loadSimpDat():\n",
        "  #uncomment the following two lines for inputing the file name manually\n",
        "  #filename = input(\"Enter name of input file: \")\n",
        "  #transaction_df = open(filename, \"r\")\n",
        "\n",
        "  transaction_df = pd.read_csv('/content/drive/MyDrive/GroceryStore.csv', names =['groceries'])\n",
        "  transaction_df\n",
        "  transaction_df.index.rename('TID', inplace=True)\n",
        "  #transaction_df.rename(columns={'MILK,BREAD,BISCUIT' : 'item_list'}, inplace=True)\n",
        "  trans_df = transaction_df.groceries.str.split(',')\n",
        "  trans_df\n",
        "  return trans_df\n"
      ],
      "metadata": {
        "id": "JqlMZDZXQHBt"
      },
      "execution_count": 46,
      "outputs": []
    },
    {
      "cell_type": "code",
      "source": [
        "#The function CreatTree does not take the data in list format. Instead, it needs the data in dictionary format and frequency of the dictionary as value.\n",
        "#While elements of a set can be modified at any time, elements of the frozenset() remain the same after creation.\n",
        "def createInitSet(dataSet):\n",
        "    retDict = {}\n",
        "    for trans in dataSet:\n",
        "        retDict[frozenset(trans)] = 1 #we are assuming all given transactions are unique hence occure only once \n",
        "    return retDict"
      ],
      "metadata": {
        "id": "Mw9-omYHQE77"
      },
      "execution_count": 47,
      "outputs": []
    },
    {
      "cell_type": "code",
      "source": [
        "simpDat = loadSimpDat()\n",
        "simpDat"
      ],
      "metadata": {
        "colab": {
          "base_uri": "https://localhost:8080/"
        },
        "id": "z_tU3tnHhWDl",
        "outputId": "9534ed67-f6b8-4bdd-cb65-174480ff39a3"
      },
      "execution_count": 48,
      "outputs": [
        {
          "output_type": "execute_result",
          "data": {
            "text/plain": [
              "TID\n",
              "0                  [MILK, BREAD, BISCUIT]\n",
              "1      [BREAD, MILK, BISCUIT, CORNFLAKES]\n",
              "2                 [BREAD, TEA, BOURNVITA]\n",
              "3               [JAM, MAGGI, BREAD, MILK]\n",
              "4                   [MAGGI, TEA, BISCUIT]\n",
              "5                 [BREAD, TEA, BOURNVITA]\n",
              "6                [MAGGI, TEA, CORNFLAKES]\n",
              "7            [MAGGI, BREAD, TEA, BISCUIT]\n",
              "8                [JAM, MAGGI, BREAD, TEA]\n",
              "9                           [BREAD, MILK]\n",
              "10    [COFFEE, COCK, BISCUIT, CORNFLAKES]\n",
              "11    [COFFEE, COCK, BISCUIT, CORNFLAKES]\n",
              "12             [COFFEE, SUGER, BOURNVITA]\n",
              "13                  [BREAD, COFFEE, COCK]\n",
              "14                [BREAD, SUGER, BISCUIT]\n",
              "15            [COFFEE, SUGER, CORNFLAKES]\n",
              "16              [BREAD, SUGER, BOURNVITA]\n",
              "17                 [BREAD, COFFEE, SUGER]\n",
              "18                 [BREAD, COFFEE, SUGER]\n",
              "19        [TEA, MILK, COFFEE, CORNFLAKES]\n",
              "Name: groceries, dtype: object"
            ]
          },
          "metadata": {},
          "execution_count": 48
        }
      ]
    },
    {
      "cell_type": "code",
      "source": [
        "initSet = createInitSet(simpDat)\n",
        "initSet"
      ],
      "metadata": {
        "colab": {
          "base_uri": "https://localhost:8080/"
        },
        "id": "tjlObM7ihYHM",
        "outputId": "bf2b7b66-8a0c-4acc-a766-83d27d5de60d"
      },
      "execution_count": 49,
      "outputs": [
        {
          "output_type": "execute_result",
          "data": {
            "text/plain": [
              "{frozenset({'BISCUIT', 'BREAD', 'MILK'}): 1,\n",
              " frozenset({'BISCUIT', 'BREAD', 'CORNFLAKES', 'MILK'}): 1,\n",
              " frozenset({'BOURNVITA', 'BREAD', 'TEA'}): 1,\n",
              " frozenset({'BREAD', 'JAM', 'MAGGI', 'MILK'}): 1,\n",
              " frozenset({'BISCUIT', 'MAGGI', 'TEA'}): 1,\n",
              " frozenset({'CORNFLAKES', 'MAGGI', 'TEA'}): 1,\n",
              " frozenset({'BISCUIT', 'BREAD', 'MAGGI', 'TEA'}): 1,\n",
              " frozenset({'BREAD', 'JAM', 'MAGGI', 'TEA'}): 1,\n",
              " frozenset({'BREAD', 'MILK'}): 1,\n",
              " frozenset({'BISCUIT', 'COCK', 'COFFEE', 'CORNFLAKES'}): 1,\n",
              " frozenset({'BOURNVITA', 'COFFEE', 'SUGER'}): 1,\n",
              " frozenset({'BREAD', 'COCK', 'COFFEE'}): 1,\n",
              " frozenset({'BISCUIT', 'BREAD', 'SUGER'}): 1,\n",
              " frozenset({'COFFEE', 'CORNFLAKES', 'SUGER'}): 1,\n",
              " frozenset({'BOURNVITA', 'BREAD', 'SUGER'}): 1,\n",
              " frozenset({'BREAD', 'COFFEE', 'SUGER'}): 1,\n",
              " frozenset({'COFFEE', 'CORNFLAKES', 'MILK', 'TEA'}): 1}"
            ]
          },
          "metadata": {},
          "execution_count": 49
        }
      ]
    },
    {
      "cell_type": "code",
      "source": [
        "#The FP-tree\n",
        "myFPtree, myHeaderTab = createTree(initSet, 3)\n",
        "myFPtree.disp()"
      ],
      "metadata": {
        "colab": {
          "base_uri": "https://localhost:8080/"
        },
        "id": "VFdT9TODQL6_",
        "outputId": "c04fa758-a292-413c-b626-38f0d5501fa9"
      },
      "execution_count": 50,
      "outputs": [
        {
          "output_type": "stream",
          "name": "stdout",
          "text": [
            "   Null Set   1\n",
            "     BREAD   11\n",
            "       BISCUIT   3\n",
            "         MILK   1\n",
            "         CORNFLAKES   1\n",
            "           MILK   1\n",
            "         SUGER   1\n",
            "       TEA   3\n",
            "         BOURNVITA   1\n",
            "         BISCUIT   1\n",
            "           MAGGI   1\n",
            "         MAGGI   1\n",
            "       MILK   2\n",
            "         MAGGI   1\n",
            "       COFFEE   2\n",
            "         SUGER   1\n",
            "       SUGER   1\n",
            "         BOURNVITA   1\n",
            "     TEA   2\n",
            "       BISCUIT   1\n",
            "         MAGGI   1\n",
            "       CORNFLAKES   1\n",
            "         MAGGI   1\n",
            "     COFFEE   4\n",
            "       BISCUIT   1\n",
            "         CORNFLAKES   1\n",
            "       SUGER   1\n",
            "         BOURNVITA   1\n",
            "       CORNFLAKES   1\n",
            "         SUGER   1\n",
            "       TEA   1\n",
            "         MILK   1\n",
            "           CORNFLAKES   1\n"
          ]
        }
      ]
    },
    {
      "cell_type": "markdown",
      "source": [
        "In the Output, we can see the FP-tree structure of our data set. The most occurring item in the sets has a count of 11 which is Bread. \n",
        "\n",
        "Bread count = 11, Biscuit count = 4 => (Bread, Biscuit) occure together atleast 4 times \n",
        "\n"
      ],
      "metadata": {
        "id": "DC6UE-FoAPxn"
      }
    },
    {
      "cell_type": "code",
      "source": [
        "#Extracting frequent items from FP-tree.\n",
        "#bottom up approach: start from leaf nodes to the roof node which null set in our FP-tree.\n",
        "\n",
        "def ascendTree(leafNode, prefixPath): #ascends from leaf node to root\n",
        "    if leafNode.parent != None:\n",
        "        prefixPath.append(leafNode.name)\n",
        "        ascendTree(leafNode.parent, prefixPath)\n",
        "\n",
        "\n",
        "#This function gives a list of links from leaves to the root, which will be returned to our next function findprefixpath() \n",
        "#and appended to a list named condpats which will help get the results using nodes class, node count and node-link functions."
      ],
      "metadata": {
        "id": "mhOAYlS9QQlt"
      },
      "execution_count": 51,
      "outputs": []
    },
    {
      "cell_type": "code",
      "source": [
        "def findPrefixPath(basePat, treeNode): #treeNode comes from header table\n",
        "    condPats = {}\n",
        "    while treeNode != None:\n",
        "        prefixPath = []\n",
        "        ascendTree(treeNode, prefixPath)\n",
        "        if len(prefixPath) > 1: \n",
        "            condPats[frozenset(prefixPath[1:])] = treeNode.count\n",
        "        treeNode = treeNode.nodeLink\n",
        "    return condPats"
      ],
      "metadata": {
        "id": "qm2dhsmWQSwP"
      },
      "execution_count": 52,
      "outputs": []
    },
    {
      "cell_type": "code",
      "source": [
        "\n",
        "#Let’s check for the commonly occurred item with MAGGI:\n",
        "print(\"The most occuring with MAGGI are: \\n\")\n",
        "l  = findPrefixPath('', myHeaderTab['MAGGI'][1])\n",
        "l\n",
        "\n",
        "\n",
        "\n",
        "# Write  to file\n",
        "\n",
        "with open('Items.txt', 'w') as f:\n",
        "    for item in l:\n",
        "        f.write(\"%s\\n\" % item)\n"
      ],
      "metadata": {
        "colab": {
          "base_uri": "https://localhost:8080/"
        },
        "id": "aQACSm6Ek1u-",
        "outputId": "519fbaa4-1478-4955-fb17-f49a0b99b706"
      },
      "execution_count": 53,
      "outputs": [
        {
          "output_type": "stream",
          "name": "stdout",
          "text": [
            "The most occuring with MAGGI are: \n",
            "\n"
          ]
        }
      ]
    },
    {
      "cell_type": "code",
      "source": [
        "#Let’s check for the commonly occurred item with MILK:\n",
        "print(\"The most occuring with MILK are: \\n\")\n",
        "findPrefixPath('', myHeaderTab['MILK'][1])"
      ],
      "metadata": {
        "colab": {
          "base_uri": "https://localhost:8080/"
        },
        "id": "9RlL-MhJKn7d",
        "outputId": "ad9ae787-c9bf-4209-8502-41a81256a2e3"
      },
      "execution_count": 54,
      "outputs": [
        {
          "output_type": "stream",
          "name": "stdout",
          "text": [
            "The most occuring with MILK are: \n",
            "\n"
          ]
        },
        {
          "output_type": "execute_result",
          "data": {
            "text/plain": [
              "{frozenset({'BREAD'}): 2,\n",
              " frozenset({'BISCUIT', 'BREAD'}): 1,\n",
              " frozenset({'BISCUIT', 'BREAD', 'CORNFLAKES'}): 1,\n",
              " frozenset({'COFFEE', 'TEA'}): 1}"
            ]
          },
          "metadata": {},
          "execution_count": 54
        }
      ]
    },
    {
      "cell_type": "code",
      "source": [
        "#Let’s check for the commonly occurred item with TEA:\n",
        "print(\"The most occuring with TEA are: \\n\")\n",
        "findPrefixPath('', myHeaderTab['TEA'][1])"
      ],
      "metadata": {
        "colab": {
          "base_uri": "https://localhost:8080/"
        },
        "id": "cNYzD7taWcan",
        "outputId": "43e2a2c9-16b5-4915-e643-062cfc4fbdf3"
      },
      "execution_count": 55,
      "outputs": [
        {
          "output_type": "stream",
          "name": "stdout",
          "text": [
            "The most occuring with TEA are: \n",
            "\n"
          ]
        },
        {
          "output_type": "execute_result",
          "data": {
            "text/plain": [
              "{frozenset({'BREAD'}): 3, frozenset({'COFFEE'}): 1}"
            ]
          },
          "metadata": {},
          "execution_count": 55
        }
      ]
    },
    {
      "cell_type": "markdown",
      "source": [
        "Here in the above output, we can see that when we asked to function about the occurrence of TEA, it appeared 3 times in the transaction, and the most occurring item with TEA is BREAD."
      ],
      "metadata": {
        "id": "z4ydivXmXMqL"
      }
    },
    {
      "cell_type": "code",
      "source": [
        "#Let’s check for the commonly occurred item with BISCUIT:\n",
        "print(\"The most occuring with BISCUIT are: \\n\")\n",
        "findPrefixPath('', myHeaderTab['BISCUIT'][1])"
      ],
      "metadata": {
        "colab": {
          "base_uri": "https://localhost:8080/"
        },
        "id": "qWeho6U1XZ54",
        "outputId": "21790259-01be-4316-a31e-07dfaf176131"
      },
      "execution_count": 56,
      "outputs": [
        {
          "output_type": "stream",
          "name": "stdout",
          "text": [
            "The most occuring with BISCUIT are: \n",
            "\n"
          ]
        },
        {
          "output_type": "execute_result",
          "data": {
            "text/plain": [
              "{frozenset({'BREAD'}): 3,\n",
              " frozenset({'TEA'}): 1,\n",
              " frozenset({'BREAD', 'TEA'}): 1,\n",
              " frozenset({'COFFEE'}): 1}"
            ]
          },
          "metadata": {},
          "execution_count": 56
        }
      ]
    },
    {
      "cell_type": "markdown",
      "source": [
        "We get BISCUIT and BREAD as most occuring. "
      ],
      "metadata": {
        "id": "cyn4OPOWZY17"
      }
    },
    {
      "cell_type": "code",
      "source": [
        "#Let’s check for the commonly occurred item with BREAD:\n",
        "print(\"The most occuring with BREAD are: \\n\")\n",
        "findPrefixPath('', myHeaderTab['BREAD'][1])"
      ],
      "metadata": {
        "colab": {
          "base_uri": "https://localhost:8080/"
        },
        "id": "yoB4ROIvFSSS",
        "outputId": "b3cf393e-4c16-44f9-d05c-3e422a85ceda"
      },
      "execution_count": 57,
      "outputs": [
        {
          "output_type": "stream",
          "name": "stdout",
          "text": [
            "The most occuring with BREAD are: \n",
            "\n"
          ]
        },
        {
          "output_type": "execute_result",
          "data": {
            "text/plain": [
              "{}"
            ]
          },
          "metadata": {},
          "execution_count": 57
        }
      ]
    },
    {
      "cell_type": "markdown",
      "source": [
        "## Why dont we get most occuring rules when the input is BREAD? Even though we know that BISCUIT and BREAD occure together. \n",
        "\n",
        "Because the tree triverses from leaf node to top node, if we start our journey from the top node which is BREAD, there is no rules to be found. That is why to find the occuring items together, we only have to input the leaf nodes to get the whole picture. "
      ],
      "metadata": {
        "id": "1an3hR2SX9Mk"
      }
    },
    {
      "cell_type": "code",
      "source": [
        "#Let’s check for the commonly occurred item with BREAD:\n",
        "print(\"The most occuring with CORNFLAKES are: \\n\")\n",
        "findPrefixPath('', myHeaderTab['CORNFLAKES'][1])"
      ],
      "metadata": {
        "colab": {
          "base_uri": "https://localhost:8080/"
        },
        "id": "lFU1Hi4XYujw",
        "outputId": "3f2cc3af-56ac-4c8c-d6ec-c23c04317039"
      },
      "execution_count": 58,
      "outputs": [
        {
          "output_type": "stream",
          "name": "stdout",
          "text": [
            "The most occuring with CORNFLAKES are: \n",
            "\n"
          ]
        },
        {
          "output_type": "execute_result",
          "data": {
            "text/plain": [
              "{frozenset({'BISCUIT', 'BREAD'}): 1,\n",
              " frozenset({'TEA'}): 1,\n",
              " frozenset({'COFFEE'}): 1,\n",
              " frozenset({'BISCUIT', 'COFFEE'}): 1,\n",
              " frozenset({'COFFEE', 'MILK', 'TEA'}): 1}"
            ]
          },
          "metadata": {},
          "execution_count": 58
        }
      ]
    },
    {
      "cell_type": "code",
      "source": [
        "#Let’s check for the commonly occurred item with BOURNVITA:\n",
        "print(\"The most occuring with BOURNVITA are: \\n\")\n",
        "findPrefixPath('', myHeaderTab['BOURNVITA'][1])"
      ],
      "metadata": {
        "colab": {
          "base_uri": "https://localhost:8080/"
        },
        "id": "3EpQgmnLY9jL",
        "outputId": "1f8ee0cb-b272-41a8-a7c3-b17359f64a88"
      },
      "execution_count": 59,
      "outputs": [
        {
          "output_type": "stream",
          "name": "stdout",
          "text": [
            "The most occuring with BOURNVITA are: \n",
            "\n"
          ]
        },
        {
          "output_type": "execute_result",
          "data": {
            "text/plain": [
              "{frozenset({'BREAD', 'TEA'}): 1,\n",
              " frozenset({'COFFEE', 'SUGER'}): 1,\n",
              " frozenset({'BREAD', 'SUGER'}): 1}"
            ]
          },
          "metadata": {},
          "execution_count": 59
        }
      ]
    },
    {
      "cell_type": "code",
      "source": [
        "#Let’s check for the commonly occurred item with SUGAR:\n",
        "print(\"The most occuring with SUGER are: \\n\")\n",
        "findPrefixPath('', myHeaderTab['SUGER'][1])"
      ],
      "metadata": {
        "colab": {
          "base_uri": "https://localhost:8080/"
        },
        "id": "Y0iTTXQqZtE3",
        "outputId": "b2a78e50-5ca1-4f4c-bf08-43aee6c940c0"
      },
      "execution_count": 60,
      "outputs": [
        {
          "output_type": "stream",
          "name": "stdout",
          "text": [
            "The most occuring with SUGER are: \n",
            "\n"
          ]
        },
        {
          "output_type": "execute_result",
          "data": {
            "text/plain": [
              "{frozenset({'COFFEE'}): 1,\n",
              " frozenset({'BISCUIT', 'BREAD'}): 1,\n",
              " frozenset({'COFFEE', 'CORNFLAKES'}): 1,\n",
              " frozenset({'BREAD'}): 1,\n",
              " frozenset({'BREAD', 'COFFEE'}): 1}"
            ]
          },
          "metadata": {},
          "execution_count": 60
        }
      ]
    },
    {
      "cell_type": "markdown",
      "source": [
        "Here we can see from the output and cross verify with the tree output that, BREAD appeared 3 times in transaction with BISCUIT. "
      ],
      "metadata": {
        "id": "SzVRhAPnXfKz"
      }
    },
    {
      "cell_type": "markdown",
      "source": [
        "WHy is FP-growth faster? \n",
        "\n",
        "This structure helps to find the required frequent set rapidly. Internally FP-growth is an algorithm that does not require candidate generation. It uses an FP-tree data structure that does not require the generation of candidate sets explicitly, making the algorithm work better with large databases."
      ],
      "metadata": {
        "id": "Ggdtdnhl3qVx"
      }
    }
  ]
}